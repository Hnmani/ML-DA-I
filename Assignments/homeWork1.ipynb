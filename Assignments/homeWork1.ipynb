{
  "nbformat": 4,
  "nbformat_minor": 0,
  "metadata": {
    "colab": {
      "provenance": []
    },
    "kernelspec": {
      "name": "python3",
      "display_name": "Python 3"
    },
    "language_info": {
      "name": "python"
    }
  },
  "cells": [
    {
      "cell_type": "markdown",
      "source": [
        "# Home Work Assignment 1"
      ],
      "metadata": {
        "id": "GL4lf35b9p9F"
      }
    },
    {
      "cell_type": "markdown",
      "source": [
        "**This is a group assignment.**\n",
        "\n",
        "**Your home work assignment group will be same as your Kaggle group.**\n",
        "\n",
        "**Team lead must submit answers to TA Arabinda Panda by mail.**\n",
        "\n",
        "**There will be only one submission for a group**\n",
        "\n",
        "**Use your group name for naming the file, e.g, HW_1_GRP12**"
      ],
      "metadata": {
        "id": "rvCuFSR9916X"
      }
    },
    {
      "cell_type": "markdown",
      "source": [
        "#Submission deadline: 5th September 2023, 23:59 hours\n",
        "\n",
        "---\n",
        "\n"
      ],
      "metadata": {
        "id": "SNXp8ZiDEWve"
      }
    },
    {
      "cell_type": "code",
      "source": [
        "import tensorflow as tf\n",
        "import numpy as np"
      ],
      "metadata": {
        "id": "DtHQBQx6_C7c"
      },
      "execution_count": 1,
      "outputs": []
    },
    {
      "cell_type": "markdown",
      "source": [
        "Question1: Load data CIFAR10 from tensorflow keras"
      ],
      "metadata": {
        "id": "UhIGuqC9-_0k"
      }
    },
    {
      "cell_type": "code",
      "source": [
        "(trainX, trainY), (testX, testY) = tf.keras.datasets.cifar10.load_data()"
      ],
      "metadata": {
        "id": "BxuNHkva9sUz",
        "colab": {
          "base_uri": "https://localhost:8080/"
        },
        "outputId": "2b86bccc-5c30-42ce-ff27-6671978d8a11"
      },
      "execution_count": 2,
      "outputs": [
        {
          "output_type": "stream",
          "name": "stdout",
          "text": [
            "Downloading data from https://www.cs.toronto.edu/~kriz/cifar-10-python.tar.gz\n",
            "170498071/170498071 [==============================] - 4s 0us/step\n"
          ]
        }
      ]
    },
    {
      "cell_type": "markdown",
      "source": [
        "Question2: Split data into 80% train and 20% test"
      ],
      "metadata": {
        "id": "XW_FaRh0_UcD"
      }
    },
    {
      "cell_type": "code",
      "source": [
        "print(trainX.shape, testX.shape)\n",
        "print(\"Already split in 80-20 shape\")\n",
        "\n",
        "print(np.unique(trainY))"
      ],
      "metadata": {
        "id": "81aUtSIE_QGn",
        "colab": {
          "base_uri": "https://localhost:8080/"
        },
        "outputId": "38a82f2e-d65e-46c5-d494-55eb29e343be"
      },
      "execution_count": 3,
      "outputs": [
        {
          "output_type": "stream",
          "name": "stdout",
          "text": [
            "(50000, 32, 32, 3) (10000, 32, 32, 3)\n",
            "Already split in 80-20 shape\n",
            "[0 1 2 3 4 5 6 7 8 9]\n"
          ]
        }
      ]
    },
    {
      "cell_type": "markdown",
      "source": [
        "Question3: Use one-hot encoding to convert target variable Y into categorical vectors. i.e., apply one-hot encoding to trainY and testY.\n",
        "Please refer to DNN Lab 2 jupyter notebook for similar task.  "
      ],
      "metadata": {
        "id": "xOQAxTJQ_aZ0"
      }
    },
    {
      "cell_type": "markdown",
      "source": [],
      "metadata": {
        "id": "rwy6yKR0iL7s"
      }
    },
    {
      "cell_type": "code",
      "source": [
        "trainY = tf.keras.utils.to_categorical(trainY, num_classes=10)\n",
        "testY = tf.keras.utils.to_categorical(testY, num_classes=10)\n",
        "\n",
        "print(trainY[0])\n",
        "print(testY[0])"
      ],
      "metadata": {
        "colab": {
          "base_uri": "https://localhost:8080/"
        },
        "id": "eQNX3mP-0Ym6",
        "outputId": "c377fc15-3b79-49e6-9505-8e9c388234f2"
      },
      "execution_count": 4,
      "outputs": [
        {
          "output_type": "stream",
          "name": "stdout",
          "text": [
            "[0. 0. 0. 0. 0. 0. 1. 0. 0. 0.]\n",
            "[0. 0. 0. 1. 0. 0. 0. 0. 0. 0.]\n"
          ]
        }
      ]
    },
    {
      "cell_type": "markdown",
      "source": [
        "Question4: Plot (using matplotlib) two data points from trainX"
      ],
      "metadata": {
        "id": "tY1k6P7s_6Pi"
      }
    },
    {
      "cell_type": "code",
      "source": [
        "import matplotlib.pyplot as plt\n",
        "plt.figure(figsize=(5,5))\n",
        "plt.subplot(1,2,1)\n",
        "plt.imshow(trainX[22])\n",
        "plt.subplot(1,2,2)\n",
        "plt.imshow(trainX[11])\n",
        "\n",
        "plt.show()"
      ],
      "metadata": {
        "id": "M1d_AbtmAFb0",
        "colab": {
          "base_uri": "https://localhost:8080/",
          "height": 239
        },
        "outputId": "99b93783-d1d2-4dfd-c4cf-765b8db1cf89"
      },
      "execution_count": 5,
      "outputs": [
        {
          "output_type": "display_data",
          "data": {
            "text/plain": [
              "<Figure size 500x500 with 2 Axes>"
            ],
            "image/png": "[encoded data removed]"
          },
          "metadata": {}
        }
      ]
    },
    {
      "cell_type": "markdown",
      "source": [
        "Question5: Build a deep learning model with atleast 4 hidden layers and more than 100 hidden neurons to classify 10 classes of CIFAR10\n",
        "\n",
        "Call this built model as **firstModel**"
      ],
      "metadata": {
        "id": "OWwnU2jhAFqH"
      }
    },
    {
      "cell_type": "code",
      "source": [
        "firstModel = tf.keras.models.Sequential();\n",
        "\n",
        "firstModel.add(tf.keras.layers.Reshape((3072,),input_shape = (32,32,3)))\n",
        "firstModel.add(tf.keras.layers.Dense(1500,activation=\"relu\"))\n",
        "firstModel.add(tf.keras.layers.Dense(500,activation=\"relu\"))\n",
        "firstModel.add(tf.keras.layers.Dense(300,activation=\"relu\"))\n",
        "firstModel.add(tf.keras.layers.Dense(120,activation=\"relu\"))\n",
        "firstModel.add(tf.keras.layers.Dense(50,activation=\"relu\"))\n",
        "firstModel.add(tf.keras.layers.Dense(10,activation=\"softmax\"))"
      ],
      "metadata": {
        "id": "IA90aB0DAcRO"
      },
      "execution_count": 9,
      "outputs": []
    },
    {
      "cell_type": "markdown",
      "source": [
        "Question6: Present model accuracy with different batches sizes & epochs. Present results as follows:\n",
        "$\n",
        " \\begin{pmatrix}\n",
        "  simulationNo & batchSize & epochs & trainingTime & trainAccuracy & testAccuracy \\\\\n",
        "  1 & 10 & 10 &   &  &  \\\\\n",
        "  2 & 10 & 100 &   &  & \\\\\n",
        "  3 & 500 & 100 &   &  \\\\\n",
        "  4 & 500 & 1000 &   &  \\\\\n",
        "  5 & \\frac{trainData size}{2} & 10 &   &  \\\\\n",
        "  6 & \\frac{trainData size}{2} & 100 &   & \\\\\n",
        "  7 & \\frac{trainData size}{2} & 500 &   & \\\\\n",
        "  8 & trainData size & 10 &   &  \\\\\n",
        "  9 & trainData size & 100 &   &  \\\\\n",
        "  10 & trainData size & 500 &   &   \n",
        " \\end{pmatrix}$"
      ],
      "metadata": {
        "id": "jsP2pynxAcey"
      }
    },
    {
      "cell_type": "code",
      "source": [
        "sgd_optimizer = tf.keras.optimizers.SGD(learning_rate=0.01)\n",
        "firstModel.compile(optimizer=sgd_optimizer, loss=\"categorical_crossentropy\",metrics=[\"accuracy\"])\n",
        "\n",
        "firstModel.fit(trainX,trainY,epochs=5,batch_size=100)"
      ],
      "metadata": {
        "id": "6qX8TgxyAnW-",
        "colab": {
          "base_uri": "https://localhost:8080/"
        },
        "outputId": "640e5d02-d18e-445e-cf06-dbd85e412e2f"
      },
      "execution_count": null,
      "outputs": [
        {
          "output_type": "stream",
          "name": "stdout",
          "text": [
            "Epoch 1/5\n",
            "500/500 [==============================] - 32s 63ms/step - loss: nan - accuracy: 0.0999\n",
            "Epoch 2/5\n",
            "500/500 [==============================] - 32s 65ms/step - loss: nan - accuracy: 0.1000\n",
            "Epoch 3/5\n",
            "500/500 [==============================] - 31s 62ms/step - loss: nan - accuracy: 0.1000\n",
            "Epoch 4/5\n",
            "500/500 [==============================] - 32s 64ms/step - loss: nan - accuracy: 0.1000\n",
            "Epoch 5/5\n",
            "500/500 [==============================] - 32s 63ms/step - loss: nan - accuracy: 0.1000\n"
          ]
        }
      ]
    },
    {
      "cell_type": "markdown",
      "source": [
        "Question7: Plot testY[0] and testY[1]"
      ],
      "metadata": {
        "id": "6NG5JhGvBemI"
      }
    },
    {
      "cell_type": "code",
      "source": [],
      "metadata": {
        "id": "COH__3l0BgUY"
      },
      "execution_count": null,
      "outputs": []
    },
    {
      "cell_type": "markdown",
      "source": [
        "Question8: Predict testY[0] and testY[1] class using **firstModel**"
      ],
      "metadata": {
        "id": "cw6rFGGlDhFv"
      }
    },
    {
      "cell_type": "code",
      "source": [],
      "metadata": {
        "id": "aHLmsQX-DhhG"
      },
      "execution_count": null,
      "outputs": []
    },
    {
      "cell_type": "markdown",
      "source": [
        "Question9: Compare prediction results with actual test images (refer to Question 7 for actual test images). Write down your observations."
      ],
      "metadata": {
        "id": "fmjC0tAjDuCF"
      }
    },
    {
      "cell_type": "code",
      "source": [],
      "metadata": {
        "id": "LMzA048aD-Jd"
      },
      "execution_count": null,
      "outputs": []
    },
    {
      "cell_type": "markdown",
      "source": [
        "Question10: Save your jupyter notebook(with your simulation results) and send to Arabinda Panda by email"
      ],
      "metadata": {
        "id": "POMz06aTEBtg"
      }
    }
  ]
}