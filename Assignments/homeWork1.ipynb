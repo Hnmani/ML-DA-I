{
  "nbformat": 4,
  "nbformat_minor": 0,
  "metadata": {
    "colab": {
      "provenance": []
    },
    "kernelspec": {
      "name": "python3",
      "display_name": "Python 3"
    },
    "language_info": {
      "name": "python"
    }
  },
  "cells": [
    {
      "cell_type": "markdown",
      "source": [
        "# Home Work Assignment 1"
      ],
      "metadata": {
        "id": "GL4lf35b9p9F"
      }
    },
    {
      "cell_type": "markdown",
      "source": [
        "**This is a group assignment.**\n",
        "\n",
        "**Your home work assignment group will be same as your Kaggle group.**\n",
        "\n",
        "**Team lead must submit answers to TA Arabinda Panda by mail.**\n",
        "\n",
        "**There will be only one submission for a group**\n",
        "\n",
        "**Use your group name for naming the file, e.g, HW_1_GRP12**"
      ],
      "metadata": {
        "id": "rvCuFSR9916X"
      }
    },
    {
      "cell_type": "markdown",
      "source": [
        "#Submission deadline: 5th September 2023, 23:59 hours\n",
        "\n",
        "---\n",
        "\n"
      ],
      "metadata": {
        "id": "SNXp8ZiDEWve"
      }
    },
    {
      "cell_type": "code",
      "source": [
        "import tensorflow as tf\n",
        "import numpy as np"
      ],
      "metadata": {
        "id": "DtHQBQx6_C7c"
      },
      "execution_count": null,
      "outputs": []
    },
    {
      "cell_type": "markdown",
      "source": [
        "Question1: Load data CIFAR10 from tensorflow keras"
      ],
      "metadata": {
        "id": "UhIGuqC9-_0k"
      }
    },
    {
      "cell_type": "code",
      "source": [],
      "metadata": {
        "id": "BxuNHkva9sUz"
      },
      "execution_count": null,
      "outputs": []
    },
    {
      "cell_type": "markdown",
      "source": [
        "Question2: Split data into 80% train and 20% test"
      ],
      "metadata": {
        "id": "XW_FaRh0_UcD"
      }
    },
    {
      "cell_type": "code",
      "source": [],
      "metadata": {
        "id": "81aUtSIE_QGn"
      },
      "execution_count": null,
      "outputs": []
    },
    {
      "cell_type": "markdown",
      "source": [
        "Question3: Use one-hot encoding to convert target variable Y into categorical vectors. i.e., apply one-hot encoding to trainY and testY.\n",
        "Please refer to DNN Lab 2 jupyter notebook for similar task.  "
      ],
      "metadata": {
        "id": "xOQAxTJQ_aZ0"
      }
    },
    {
      "cell_type": "markdown",
      "source": [],
      "metadata": {
        "id": "rwy6yKR0iL7s"
      }
    },
    {
      "cell_type": "code",
      "source": [],
      "metadata": {
        "id": "jr_0074g_5u-"
      },
      "execution_count": null,
      "outputs": []
    },
    {
      "cell_type": "markdown",
      "source": [
        "Question4: Plot (using matplotlib) two data points from trainX"
      ],
      "metadata": {
        "id": "tY1k6P7s_6Pi"
      }
    },
    {
      "cell_type": "code",
      "source": [],
      "metadata": {
        "id": "M1d_AbtmAFb0"
      },
      "execution_count": null,
      "outputs": []
    },
    {
      "cell_type": "markdown",
      "source": [
        "Question5: Build a deep learning model with atleast 4 hidden layers and more than 100 hidden neurons to classify 10 classes of CIFAR10\n",
        "\n",
        "Call this built model as **firstModel**"
      ],
      "metadata": {
        "id": "OWwnU2jhAFqH"
      }
    },
    {
      "cell_type": "code",
      "source": [],
      "metadata": {
        "id": "IA90aB0DAcRO"
      },
      "execution_count": null,
      "outputs": []
    },
    {
      "cell_type": "markdown",
      "source": [
        "Question6: Present model accuracy with different batches sizes & epochs. Present results as follows:\n",
        "$\n",
        " \\begin{pmatrix}\n",
        "  simulationNo & batchSize & epochs & trainingTime & trainAccuracy & testAccuracy \\\\\n",
        "  1 & 10 & 10 &   &  &  \\\\\n",
        "  2 & 10 & 100 &   &  & \\\\\n",
        "  3 & 500 & 100 &   &  \\\\\n",
        "  4 & 500 & 1000 &   &  \\\\\n",
        "  5 & \\frac{trainData size}{2} & 10 &   &  \\\\\n",
        "  6 & \\frac{trainData size}{2} & 100 &   & \\\\\n",
        "  7 & \\frac{trainData size}{2} & 500 &   & \\\\\n",
        "  8 & trainData size & 10 &   &  \\\\\n",
        "  9 & trainData size & 100 &   &  \\\\\n",
        "  10 & trainData size & 500 &   &   \n",
        " \\end{pmatrix}$"
      ],
      "metadata": {
        "id": "jsP2pynxAcey"
      }
    },
    {
      "cell_type": "code",
      "source": [],
      "metadata": {
        "id": "6qX8TgxyAnW-"
      },
      "execution_count": null,
      "outputs": []
    },
    {
      "cell_type": "markdown",
      "source": [
        "Question7: Plot testY[0] and testY[1]"
      ],
      "metadata": {
        "id": "6NG5JhGvBemI"
      }
    },
    {
      "cell_type": "code",
      "source": [],
      "metadata": {
        "id": "COH__3l0BgUY"
      },
      "execution_count": null,
      "outputs": []
    },
    {
      "cell_type": "markdown",
      "source": [
        "Question8: Predict testY[0] and testY[1] class using **firstModel**"
      ],
      "metadata": {
        "id": "cw6rFGGlDhFv"
      }
    },
    {
      "cell_type": "code",
      "source": [],
      "metadata": {
        "id": "aHLmsQX-DhhG"
      },
      "execution_count": null,
      "outputs": []
    },
    {
      "cell_type": "markdown",
      "source": [
        "Question9: Compare prediction results with actual test images (refer to Question 7 for actual test images). Write down your observations."
      ],
      "metadata": {
        "id": "fmjC0tAjDuCF"
      }
    },
    {
      "cell_type": "code",
      "source": [],
      "metadata": {
        "id": "LMzA048aD-Jd"
      },
      "execution_count": null,
      "outputs": []
    },
    {
      "cell_type": "markdown",
      "source": [
        "Question10: Save your jupyter notebook(with your simulation results) and send to Arabinda Panda by email"
      ],
      "metadata": {
        "id": "POMz06aTEBtg"
      }
    }
  ]
}